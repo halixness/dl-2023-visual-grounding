{
 "cells": [
  {
   "cell_type": "code",
   "execution_count": 1,
   "id": "c9583c75",
   "metadata": {},
   "outputs": [],
   "source": [
    "from architectures.clip_detector.detector import CLIPDetector\n",
    "import torch\n",
    "from PIL import Image\n",
    "from io import BytesIO\n",
    "from dataset import RefCocoBatch, RefCocoConfig, RefCocoDataset\n",
    "from pathlib import Path\n",
    "from torch.utils.data import DataLoader\n",
    "import matplotlib.pyplot as plt\n",
    "from tqdm import tqdm"
   ]
  },
  {
   "cell_type": "code",
   "execution_count": 2,
   "id": "a4468b81",
   "metadata": {},
   "outputs": [],
   "source": [
    "cfg = RefCocoConfig({\n",
    "    \"path\": \"../refcocog\"\n",
    "})\n",
    "\n",
    "train_dataset = RefCocoDataset(config = cfg, phase = \"train\")\n",
    "test_dataset = RefCocoDataset(config = cfg, phase = \"test\")"
   ]
  },
  {
   "cell_type": "code",
   "execution_count": 3,
   "id": "d059e8a8",
   "metadata": {},
   "outputs": [],
   "source": [
    "batch_size = 16\n",
    "train_dataloader = DataLoader(train_dataset, batch_size=batch_size, shuffle=True, collate_fn=RefCocoDataset.batchify)"
   ]
  },
  {
   "attachments": {},
   "cell_type": "markdown",
   "id": "e83db207",
   "metadata": {},
   "source": [
    "### Model"
   ]
  },
  {
   "cell_type": "code",
   "execution_count": 4,
   "id": "364b7bce",
   "metadata": {},
   "outputs": [],
   "source": [
    "import clip\n",
    "import torch.optim as optim\n",
    "\n",
    "device = \"cuda\"\n",
    "model = CLIPDetector(device=device) \n",
    "#model, preprocessor = clip.load(\"ViT-B/32\", device=device)"
   ]
  },
  {
   "cell_type": "code",
   "execution_count": 5,
   "id": "8a8d3add",
   "metadata": {},
   "outputs": [],
   "source": [
    "def contrastive_loss(logits, tau = 1):\n",
    "        \"\"\" \n",
    "            Very simple one-positive contrastive loss\n",
    "            similarity:     a pre-computed distance matrix\n",
    "            https://jamesmccaffrey.wordpress.com/2022/03/04/contrastive-loss-function-in-pytorch/\n",
    "        \"\"\"\n",
    "        return torch.sum(\n",
    "            torch.stack(\n",
    "                [-torch.log(torch.exp(row[i]/tau) / (torch.sum(torch.exp(row / tau)) - torch.exp(row[i] / tau))) for i, row in enumerate(logits)]\n",
    "            )\n",
    "        )"
   ]
  },
  {
   "cell_type": "code",
   "execution_count": 10,
   "id": "d0700f96",
   "metadata": {},
   "outputs": [
    {
     "name": "stderr",
     "output_type": "stream",
     "text": [
      "100%|██████████| 1613/1613 [10:41<00:00,  2.52it/s]"
     ]
    },
    {
     "name": "stdout",
     "output_type": "stream",
     "text": [
      "Epoch loss: \tnan\n",
      "\n"
     ]
    },
    {
     "name": "stderr",
     "output_type": "stream",
     "text": [
      "\n"
     ]
    }
   ],
   "source": [
    "import numpy as np \n",
    "\n",
    "# per epoch: 11 mins on a single RTX 3070 Laptop\n",
    "epochs = 1\n",
    "overall_loss = []\n",
    "\n",
    "for epoch in range(epochs):\n",
    "\n",
    "    epoch_loss = []\n",
    "    for batch in tqdm(train_dataloader):\n",
    "    \n",
    "        optimizer.zero_grad()\n",
    "        \n",
    "        logits_img, logits_txt = model(batch.images, batch.sentences)\n",
    "\n",
    "        loss = contrastive_loss(logits_img)\n",
    "        loss.backward()\n",
    "        optimizer.step()\n",
    "\n",
    "        epoch_loss.append(loss.detach().cpu().numpy())\n",
    "        overall_loss.append(loss.detach().cpu().numpy())\n",
    "        \n",
    "    print(f\"Epoch loss: \\t{np.mean(epoch_loss)}\\n\")"
   ]
  },
  {
   "cell_type": "code",
   "execution_count": 12,
   "id": "b7bfb4da",
   "metadata": {},
   "outputs": [
    {
     "data": {
      "text/plain": [
       "[<matplotlib.lines.Line2D at 0x2490872e7c0>]"
      ]
     },
     "execution_count": 12,
     "metadata": {},
     "output_type": "execute_result"
    },
    {
     "data": {
      "image/png": "[encoded data removed]",
      "text/plain": [
       "<Figure size 640x480 with 1 Axes>"
      ]
     },
     "metadata": {},
     "output_type": "display_data"
    }
   ],
   "source": [
    "import matplotlib.pyplot as plt\n",
    "\n",
    "plt.plot(overall_loss)\n"
   ]
  },
  {
   "attachments": {},
   "cell_type": "markdown",
   "id": "16e418e8",
   "metadata": {},
   "source": [
    "### Evaluating"
   ]
  },
  {
   "cell_type": "code",
   "execution_count": 6,
   "id": "c0844662",
   "metadata": {},
   "outputs": [],
   "source": [
    "batch_size = 16\n",
    "test_dataloader = DataLoader(train_dataset, batch_size=batch_size, shuffle=True, collate_fn=RefCocoDataset.batchify)"
   ]
  },
  {
   "cell_type": "code",
   "execution_count": 11,
   "id": "66f33c48",
   "metadata": {},
   "outputs": [
    {
     "name": "stdout",
     "output_type": "stream",
     "text": [
      "tensor([[0., 0., 0., 0.],\n",
      "        [0., 0., 0., 0.],\n",
      "        [0., 0., 0., 0.],\n",
      "        [0., 0., 0., 0.],\n",
      "        [0., 0., 0., 0.],\n",
      "        [0., 0., 0., 0.],\n",
      "        [0., 0., 0., 0.],\n",
      "        [0., 0., 0., 0.],\n",
      "        [0., 0., 0., 0.],\n",
      "        [0., 0., 0., 0.],\n",
      "        [0., 0., 0., 0.],\n",
      "        [0., 0., 0., 0.],\n",
      "        [0., 0., 0., 0.],\n",
      "        [0., 0., 0., 0.],\n",
      "        [0., 0., 0., 0.],\n",
      "        [0., 0., 0., 0.]], device='cuda:0')\n"
     ]
    }
   ],
   "source": [
    "for batch in test_dataloader:\n",
    "    print(model.inference(batch.images, batch.sentences))\n",
    "\n",
    "    break"
   ]
  },
  {
   "cell_type": "code",
   "execution_count": null,
   "id": "33bdbe40",
   "metadata": {},
   "outputs": [],
   "source": []
  }
 ],
 "metadata": {
  "kernelspec": {
   "display_name": "Python 3 (ipykernel)",
   "language": "python",
   "name": "python3"
  },
  "language_info": {
   "codemirror_mode": {
    "name": "ipython",
    "version": 3
   },
   "file_extension": ".py",
   "mimetype": "text/x-python",
   "name": "python",
   "nbconvert_exporter": "python",
   "pygments_lexer": "ipython3",
   "version": "3.8.13"
  }
 },
 "nbformat": 4,
 "nbformat_minor": 5
}
