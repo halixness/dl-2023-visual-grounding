{
 "cells": [
  {
   "cell_type": "code",
   "execution_count": 1,
   "id": "c9583c75",
   "metadata": {},
   "outputs": [],
   "source": [
    "from architectures.baseline.yoloclip import YOLOClip\n",
    "import torch\n",
    "from PIL import Image\n",
    "from io import BytesIO\n",
    "from dataset import RefCocoBatch, RefCocoConfig, RefCocoDataset\n",
    "from pathlib import Path\n",
    "from torch.utils.data import DataLoader\n",
    "import matplotlib.pyplot as plt\n",
    "from tqdm import tqdm\n",
    "\n",
    "import clip\n",
    "import torch.optim as optim\n",
    "import matplotlib.patches as patches\n",
    "import numpy as np\n"
   ]
  },
  {
   "cell_type": "code",
   "execution_count": 2,
   "id": "a4468b81",
   "metadata": {},
   "outputs": [],
   "source": [
    "cfg = RefCocoConfig({\n",
    "    \"path\": \"../refcocog\"\n",
    "})\n",
    "\n",
    "train_dataset = RefCocoDataset(config = cfg, phase = \"train\")\n",
    "test_dataset = RefCocoDataset(config = cfg, phase = \"test\")"
   ]
  },
  {
   "cell_type": "code",
   "execution_count": 3,
   "id": "d059e8a8",
   "metadata": {},
   "outputs": [],
   "source": [
    "batch_size = 16\n",
    "train_dataloader = DataLoader(train_dataset, batch_size=batch_size, shuffle=True, collate_fn=RefCocoDataset.batchify)"
   ]
  },
  {
   "attachments": {},
   "cell_type": "markdown",
   "id": "44e4ba72",
   "metadata": {},
   "source": [
    "### Model"
   ]
  },
  {
   "cell_type": "code",
   "execution_count": 4,
   "id": "364b7bce",
   "metadata": {},
   "outputs": [
    {
     "name": "stderr",
     "output_type": "stream",
     "text": [
      "YOLOv5  2023-3-27 Python-3.8.13 torch-1.12.1 CUDA:0 (NVIDIA GeForce RTX 3070 Laptop GPU, 8192MiB)\n",
      "\n",
      "Fusing layers... \n",
      "YOLOv5s summary: 213 layers, 7225885 parameters, 0 gradients\n",
      "Adding AutoShape... \n"
     ]
    }
   ],
   "source": [
    "model = YOLOClip(device=\"cuda\") \n",
    "#model, preprocessor = clip.load(\"ViT-B/32\", device=device)\n",
    "#optimizer = optim.AdamW(model.parameters(), lr=1e-3, weight_decay=1e-2)"
   ]
  },
  {
   "cell_type": "code",
   "execution_count": 6,
   "id": "1a8c805d",
   "metadata": {},
   "outputs": [],
   "source": [
    "def get_iou(bb1, bb2):\n",
    "    \"\"\"\n",
    "    Calculate the Intersection over Union (IoU) of two bounding boxes.\n",
    "\n",
    "    Parameters\n",
    "    ----------\n",
    "    bb1 : dict\n",
    "        Keys: {'x1', 'x2', 'y1', 'y2'}\n",
    "        The (x1, y1) position is at the top left corner,\n",
    "        the (x2, y2) position is at the bottom right corner\n",
    "    bb2 : dict\n",
    "        Keys: {'x1', 'x2', 'y1', 'y2'}\n",
    "        The (x, y) position is at the top left corner,\n",
    "        the (x2, y2) position is at the bottom right corner\n",
    "\n",
    "    Returns\n",
    "    -------\n",
    "    float\n",
    "        in [0, 1]\n",
    "    \"\"\"\n",
    "    assert bb1['x1'] < bb1['x2']\n",
    "    assert bb1['y1'] < bb1['y2']\n",
    "    assert bb2['x1'] < bb2['x2']\n",
    "    assert bb2['y1'] < bb2['y2']\n",
    "\n",
    "    # determine the coordinates of the intersection rectangle\n",
    "    x_left = max(bb1['x1'], bb2['x1'])\n",
    "    y_top = max(bb1['y1'], bb2['y1'])\n",
    "    x_right = min(bb1['x2'], bb2['x2'])\n",
    "    y_bottom = min(bb1['y2'], bb2['y2'])\n",
    "\n",
    "    if x_right < x_left or y_bottom < y_top:\n",
    "        return 0.0\n",
    "\n",
    "    # The intersection of two axis-aligned bounding boxes is always an\n",
    "    # axis-aligned bounding box\n",
    "    intersection_area = (x_right - x_left) * (y_bottom - y_top)\n",
    "\n",
    "    # compute the area of both AABBs\n",
    "    bb1_area = (bb1['x2'] - bb1['x1']) * (bb1['y2'] - bb1['y1'])\n",
    "    bb2_area = (bb2['x2'] - bb2['x1']) * (bb2['y2'] - bb2['y1'])\n",
    "\n",
    "    # compute the intersection over union by taking the intersection\n",
    "    # area and dividing it by the sum of prediction + ground-truth\n",
    "    # areas - the interesection area\n",
    "    iou = intersection_area / float(bb1_area + bb2_area - intersection_area)\n",
    "    assert iou >= 0.0\n",
    "    assert iou <= 1.0\n",
    "    return iou"
   ]
  },
  {
   "cell_type": "code",
   "execution_count": 18,
   "id": "d0700f96",
   "metadata": {},
   "outputs": [
    {
     "name": "stderr",
     "output_type": "stream",
     "text": [
      "  0%|          | 0/1613 [00:00<?, ?it/s]\n"
     ]
    }
   ],
   "source": [
    "model_iou = []\n",
    "for batch in tqdm(train_dataloader):\n",
    "    bboxes = model(batch.images, batch.sentences)   \n",
    "    \n",
    "    for i, obj in enumerate(bboxes):\n",
    "        if obj is not None:\n",
    "        \n",
    "            fig, ax = plt.subplots()\n",
    "            _, img_height, img_width = batch.images[i].shape\n",
    "            ax.imshow(batch.images[i].permute(1, 2, 0))\n",
    "            \n",
    "            # Pred\n",
    "            xmin, ymin, xmax, ymax = obj[0][:4].cpu().numpy()\n",
    "            width = xmax - xmin\n",
    "            height = ymax - ymin\n",
    "            xcenter = xmin + width/2\n",
    "            ycenter = ymin + height/2\n",
    "            ax.add_patch(patches.Rectangle(xy=(xcenter,ycenter), width=width, height=height, fill=None, color=\"green\", linewidth=3))\n",
    "\n",
    "            # xmin, ymin, xmax, ymax\n",
    "            pred_box = {\"x1\": xmin, \"x2\": xmax, \"y1\": ymin, \"y2\": ymax}\n",
    "            # x, y, w, h\n",
    "            true_box = {\"x1\": batch.bboxes[i][0], \"x2\": batch.bboxes[i][0] + batch.bboxes[i][2], \"y1\": batch.bboxes[i][1], \"y2\": batch.bboxes[i][1] + batch.bboxes[i][3]}\n",
    "\n",
    "            # Ground\n",
    "            width = true_box[\"x2\"] - true_box[\"x1\"]\n",
    "            height = true_box[\"y2\"] - true_box[\"y1\"]\n",
    "            xcenter = true_box[\"x1\"] + width/2\n",
    "            ycenter = true_box[\"y1\"] + height/2\n",
    "            ax.add_patch(patches.Rectangle(xy=(xcenter,ycenter), width=width, height=height, fill=None, color=\"blue\", linewidth=3))\n",
    "\n",
    "            # Other\n",
    "            for obj in obj[1:]:\n",
    "                xmin, ymin, xmax, ymax = obj[:4].cpu().numpy()\n",
    "                width = xmax - xmin \n",
    "                height = ymax - ymin\n",
    "                xcenter = xmin + width/2\n",
    "                ycenter = ymin + height/2\n",
    "                ax.add_patch(patches.Rectangle(xy=(xcenter,ycenter), width=width, height=height, fill=None, color=\"red\", linewidth=3))\n",
    "\n",
    "            # Score & plot\n",
    "            iou = get_iou(pred_box, true_box)\n",
    "            model_iou.append(iou)\n",
    "            ax.set_title(f\"{batch.sentences[i][0]}\\n({iou}%)\")\n",
    "\n",
    "            plt.savefig(\"test.jpg\")\n",
    "            plt.close()\n",
    "            break\n",
    "    break"
   ]
  },
  {
   "cell_type": "code",
   "execution_count": null,
   "id": "101edc42",
   "metadata": {},
   "outputs": [],
   "source": [
    "np.mean(model_iou)"
   ]
  }
 ],
 "metadata": {
  "kernelspec": {
   "display_name": "Python 3 (ipykernel)",
   "language": "python",
   "name": "python3"
  },
  "language_info": {
   "codemirror_mode": {
    "name": "ipython",
    "version": 3
   },
   "file_extension": ".py",
   "mimetype": "text/x-python",
   "name": "python",
   "nbconvert_exporter": "python",
   "pygments_lexer": "ipython3",
   "version": "3.8.13"
  }
 },
 "nbformat": 4,
 "nbformat_minor": 5
}
