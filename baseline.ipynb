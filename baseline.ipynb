{
 "cells": [
  {
   "cell_type": "code",
   "execution_count": 1,
   "id": "c9583c75",
   "metadata": {},
   "outputs": [],
   "source": [
    "from architectures.baseline.yoloclip import YOLOClip\n",
    "import torch\n",
    "from PIL import Image\n",
    "from io import BytesIO\n",
    "from dataset import RefCocoBatch, RefCocoConfig, RefCocoDataset\n",
    "from pathlib import Path\n",
    "from torch.utils.data import DataLoader\n",
    "import matplotlib.pyplot as plt\n",
    "from tqdm import tqdm\n",
    "\n",
    "import clip\n",
    "import torch.optim as optim\n",
    "import matplotlib.patches as patches\n",
    "import numpy as np\n"
   ]
  },
  {
   "cell_type": "code",
   "execution_count": 2,
   "id": "a4468b81",
   "metadata": {},
   "outputs": [],
   "source": [
    "cfg = RefCocoConfig({\n",
    "    \"path\": \"../refcocog\"\n",
    "})\n",
    "\n",
    "train_dataset = RefCocoDataset(config = cfg, phase = \"train\")\n",
    "test_dataset = RefCocoDataset(config = cfg, phase = \"test\")"
   ]
  },
  {
   "cell_type": "code",
   "execution_count": 3,
   "id": "d059e8a8",
   "metadata": {},
   "outputs": [],
   "source": [
    "batch_size = 16\n",
    "train_dataloader = DataLoader(train_dataset, batch_size=batch_size, shuffle=True, collate_fn=RefCocoDataset.batchify)"
   ]
  },
  {
   "attachments": {},
   "cell_type": "markdown",
   "id": "44e4ba72",
   "metadata": {},
   "source": [
    "### Model"
   ]
  },
  {
   "cell_type": "code",
   "execution_count": 4,
   "id": "364b7bce",
   "metadata": {},
   "outputs": [
    {
     "name": "stderr",
     "output_type": "stream",
     "text": [
      "YOLOv5  2023-3-27 Python-3.8.13 torch-1.12.1 CUDA:0 (NVIDIA GeForce RTX 3070 Laptop GPU, 8192MiB)\n",
      "\n",
      "Fusing layers... \n",
      "YOLOv5s summary: 213 layers, 7225885 parameters, 0 gradients\n",
      "Adding AutoShape... \n"
     ]
    }
   ],
   "source": [
    "model = YOLOClip(device=\"cuda\") \n",
    "#model, preprocessor = clip.load(\"ViT-B/32\", device=device)\n",
    "#optimizer = optim.AdamW(model.parameters(), lr=1e-3, weight_decay=1e-2)"
   ]
  },
  {
   "cell_type": "code",
   "execution_count": 5,
   "id": "1a8c805d",
   "metadata": {},
   "outputs": [],
   "source": [
    "def get_iou(bb1, bb2):\n",
    "    \"\"\"\n",
    "    Calculate the Intersection over Union (IoU) of two bounding boxes.\n",
    "\n",
    "    Parameters\n",
    "    ----------\n",
    "    bb1 : dict\n",
    "        Keys: {'x1', 'x2', 'y1', 'y2'}\n",
    "        The (x1, y1) position is at the top left corner,\n",
    "        the (x2, y2) position is at the bottom right corner\n",
    "    bb2 : dict\n",
    "        Keys: {'x1', 'x2', 'y1', 'y2'}\n",
    "        The (x, y) position is at the top left corner,\n",
    "        the (x2, y2) position is at the bottom right corner\n",
    "\n",
    "    Returns\n",
    "    -------\n",
    "    float\n",
    "        in [0, 1]\n",
    "    \"\"\"\n",
    "    assert bb1['x1'] < bb1['x2']\n",
    "    assert bb1['y1'] < bb1['y2']\n",
    "    assert bb2['x1'] < bb2['x2']\n",
    "    assert bb2['y1'] < bb2['y2']\n",
    "\n",
    "    # determine the coordinates of the intersection rectangle\n",
    "    x_left = max(bb1['x1'], bb2['x1'])\n",
    "    y_top = max(bb1['y1'], bb2['y1'])\n",
    "    x_right = min(bb1['x2'], bb2['x2'])\n",
    "    y_bottom = min(bb1['y2'], bb2['y2'])\n",
    "\n",
    "    if x_right < x_left or y_bottom < y_top:\n",
    "        return 0.0\n",
    "\n",
    "    # The intersection of two axis-aligned bounding boxes is always an\n",
    "    # axis-aligned bounding box\n",
    "    intersection_area = (x_right - x_left) * (y_bottom - y_top)\n",
    "\n",
    "    # compute the area of both AABBs\n",
    "    bb1_area = (bb1['x2'] - bb1['x1']) * (bb1['y2'] - bb1['y1'])\n",
    "    bb2_area = (bb2['x2'] - bb2['x1']) * (bb2['y2'] - bb2['y1'])\n",
    "\n",
    "    # compute the intersection over union by taking the intersection\n",
    "    # area and dividing it by the sum of prediction + ground-truth\n",
    "    # areas - the interesection area\n",
    "    iou = intersection_area / float(bb1_area + bb2_area - intersection_area)\n",
    "    assert iou >= 0.0\n",
    "    assert iou <= 1.0\n",
    "    return iou"
   ]
  },
  {
   "cell_type": "code",
   "execution_count": 6,
   "id": "d0700f96",
   "metadata": {},
   "outputs": [
    {
     "name": "stderr",
     "output_type": "stream",
     "text": [
      "100%|██████████| 2640/2640 [37:27<00:00,  1.17it/s]\n"
     ]
    }
   ],
   "source": [
    "model_iou = []\n",
    "for batch in tqdm(train_dataloader):\n",
    "    bboxes = model(batch.images, batch.sentences)   \n",
    "    \n",
    "    for i, obj in enumerate(bboxes):\n",
    "        if obj is not None:\n",
    "        \n",
    "            # fig, ax = plt.subplots()\n",
    "            _, img_height, img_width = batch.images[i].shape\n",
    "            # ax.imshow(batch.images[i].permute(1, 2, 0))\n",
    "            \n",
    "            # Pred\n",
    "            xmin, ymin, xmax, ymax = obj[0][:4].cpu().numpy()\n",
    "            width = xmax - xmin\n",
    "            height = ymax - ymin\n",
    "            xcenter = xmin + width/2\n",
    "            ycenter = ymin + height/2\n",
    "            # ax.add_patch(patches.Rectangle(xy=(xcenter,ycenter), width=width, height=height, fill=None, color=\"green\", linewidth=3))\n",
    "\n",
    "            # xmin, ymin, xmax, ymax\n",
    "            pred_box = {\"x1\": xmin, \"x2\": xmax, \"y1\": ymin, \"y2\": ymax}\n",
    "            # x, y, w, h\n",
    "            true_box = {\"x1\": batch.bboxes[i][0], \"x2\": batch.bboxes[i][0] + batch.bboxes[i][2], \"y1\": batch.bboxes[i][1], \"y2\": batch.bboxes[i][1] + batch.bboxes[i][3]}\n",
    "\n",
    "            # Ground\n",
    "            width = true_box[\"x2\"] - true_box[\"x1\"]\n",
    "            height = true_box[\"y2\"] - true_box[\"y1\"]\n",
    "            xcenter = true_box[\"x1\"] + width/2\n",
    "            ycenter = true_box[\"y1\"] + height/2\n",
    "            # ax.add_patch(patches.Rectangle(xy=(xcenter,ycenter), width=width, height=height, fill=None, color=\"blue\", linewidth=3))\n",
    "\n",
    "            # Other\n",
    "            \"\"\"\n",
    "            for obj in obj[1:]:\n",
    "                xmin, ymin, xmax, ymax = obj[:4].cpu().numpy()\n",
    "                width = xmax - xmin \n",
    "                height = ymax - ymin\n",
    "                xcenter = xmin + width/2\n",
    "                ycenter = ymin + height/2\n",
    "                ax.add_patch(patches.Rectangle(xy=(xcenter,ycenter), width=width, height=height, fill=None, color=\"red\", linewidth=3))\n",
    "            \n",
    "            ax.set_title(f\"{batch.sentences[i][0]}\\n({iou}%)\")\n",
    "\n",
    "            plt.savefig(\"test.jpg\")\n",
    "            plt.close()\n",
    "\n",
    "            \"\"\"\n",
    "            # Score & plot\n",
    "            iou = get_iou(pred_box, true_box)\n",
    "            model_iou.append(iou)\n",
    "            "
   ]
  },
  {
   "cell_type": "code",
   "execution_count": 8,
   "id": "5e01a3d4",
   "metadata": {},
   "outputs": [
    {
     "data": {
      "text/plain": [
       "0.4704526138975461"
      ]
     },
     "execution_count": 8,
     "metadata": {},
     "output_type": "execute_result"
    }
   ],
   "source": [
    "np.mean(model_iou)"
   ]
  },
  {
   "attachments": {},
   "cell_type": "markdown",
   "id": "e6771213",
   "metadata": {},
   "source": [
    "### Visualize"
   ]
  },
  {
   "cell_type": "code",
   "execution_count": 23,
   "id": "d310c230",
   "metadata": {},
   "outputs": [
    {
     "name": "stderr",
     "output_type": "stream",
     "text": [
      "  4%|▍         | 115/2640 [01:49<40:11,  1.05it/s]\n"
     ]
    },
    {
     "ename": "KeyboardInterrupt",
     "evalue": "",
     "output_type": "error",
     "traceback": [
      "\u001b[1;31m---------------------------------------------------------------------------\u001b[0m",
      "\u001b[1;31mKeyboardInterrupt\u001b[0m                         Traceback (most recent call last)",
      "\u001b[1;32mc:\\Users\\xdieg\\OneDrive\\Desktop\\Study\\Deep Learning\\Project\\samplemod\\baseline.ipynb Cell 9\u001b[0m in \u001b[0;36m<cell line: 1>\u001b[1;34m()\u001b[0m\n\u001b[0;32m      <a href='vscode-notebook-cell:/c%3A/Users/xdieg/OneDrive/Desktop/Study/Deep%20Learning/Project/samplemod/baseline.ipynb#X12sZmlsZQ%3D%3D?line=3'>4</a>\u001b[0m \u001b[39mfor\u001b[39;00m i, obj \u001b[39min\u001b[39;00m \u001b[39menumerate\u001b[39m(bboxes):\n\u001b[0;32m      <a href='vscode-notebook-cell:/c%3A/Users/xdieg/OneDrive/Desktop/Study/Deep%20Learning/Project/samplemod/baseline.ipynb#X12sZmlsZQ%3D%3D?line=4'>5</a>\u001b[0m     \u001b[39mif\u001b[39;00m obj \u001b[39mis\u001b[39;00m \u001b[39mnot\u001b[39;00m \u001b[39mNone\u001b[39;00m:\n\u001b[1;32m----> <a href='vscode-notebook-cell:/c%3A/Users/xdieg/OneDrive/Desktop/Study/Deep%20Learning/Project/samplemod/baseline.ipynb#X12sZmlsZQ%3D%3D?line=6'>7</a>\u001b[0m         fig, ax \u001b[39m=\u001b[39m plt\u001b[39m.\u001b[39;49msubplots()\n\u001b[0;32m      <a href='vscode-notebook-cell:/c%3A/Users/xdieg/OneDrive/Desktop/Study/Deep%20Learning/Project/samplemod/baseline.ipynb#X12sZmlsZQ%3D%3D?line=7'>8</a>\u001b[0m         _, img_height, img_width \u001b[39m=\u001b[39m batch\u001b[39m.\u001b[39mimages[i]\u001b[39m.\u001b[39mshape\n\u001b[0;32m      <a href='vscode-notebook-cell:/c%3A/Users/xdieg/OneDrive/Desktop/Study/Deep%20Learning/Project/samplemod/baseline.ipynb#X12sZmlsZQ%3D%3D?line=8'>9</a>\u001b[0m         ax\u001b[39m.\u001b[39mimshow(batch\u001b[39m.\u001b[39mimages[i]\u001b[39m.\u001b[39mpermute(\u001b[39m1\u001b[39m, \u001b[39m2\u001b[39m, \u001b[39m0\u001b[39m))\n",
      "File \u001b[1;32mc:\\Users\\xdieg\\anaconda3\\envs\\pytorch_deeplearning\\lib\\site-packages\\matplotlib\\pyplot.py:1178\u001b[0m, in \u001b[0;36msubplots\u001b[1;34m(nrows, ncols, sharex, sharey, squeeze, subplot_kw, gridspec_kw, **fig_kw)\u001b[0m\n\u001b[0;32m   1046\u001b[0m \u001b[39m\"\"\"\u001b[39;00m\n\u001b[0;32m   1047\u001b[0m \u001b[39mCreate a figure and a set of subplots.\u001b[39;00m\n\u001b[0;32m   1048\u001b[0m \n\u001b[1;32m   (...)\u001b[0m\n\u001b[0;32m   1175\u001b[0m \n\u001b[0;32m   1176\u001b[0m \u001b[39m\"\"\"\u001b[39;00m\n\u001b[0;32m   1177\u001b[0m fig \u001b[39m=\u001b[39m figure(\u001b[39m*\u001b[39m\u001b[39m*\u001b[39mfig_kw)\n\u001b[1;32m-> 1178\u001b[0m axs \u001b[39m=\u001b[39m fig\u001b[39m.\u001b[39;49msubplots(nrows\u001b[39m=\u001b[39;49mnrows, ncols\u001b[39m=\u001b[39;49mncols, sharex\u001b[39m=\u001b[39;49msharex, sharey\u001b[39m=\u001b[39;49msharey,\n\u001b[0;32m   1179\u001b[0m                    squeeze\u001b[39m=\u001b[39;49msqueeze, subplot_kw\u001b[39m=\u001b[39;49msubplot_kw,\n\u001b[0;32m   1180\u001b[0m                    gridspec_kw\u001b[39m=\u001b[39;49mgridspec_kw)\n\u001b[0;32m   1181\u001b[0m \u001b[39mreturn\u001b[39;00m fig, axs\n",
      "File \u001b[1;32mc:\\Users\\xdieg\\anaconda3\\envs\\pytorch_deeplearning\\lib\\site-packages\\matplotlib\\figure.py:1576\u001b[0m, in \u001b[0;36mFigure.subplots\u001b[1;34m(self, nrows, ncols, sharex, sharey, squeeze, subplot_kw, gridspec_kw)\u001b[0m\n\u001b[0;32m   1574\u001b[0m         subplot_kw[\u001b[39m\"\u001b[39m\u001b[39msharex\u001b[39m\u001b[39m\"\u001b[39m] \u001b[39m=\u001b[39m shared_with[sharex]\n\u001b[0;32m   1575\u001b[0m         subplot_kw[\u001b[39m\"\u001b[39m\u001b[39msharey\u001b[39m\u001b[39m\"\u001b[39m] \u001b[39m=\u001b[39m shared_with[sharey]\n\u001b[1;32m-> 1576\u001b[0m         axarr[row, col] \u001b[39m=\u001b[39m \u001b[39mself\u001b[39;49m\u001b[39m.\u001b[39;49madd_subplot(gs[row, col], \u001b[39m*\u001b[39;49m\u001b[39m*\u001b[39;49msubplot_kw)\n\u001b[0;32m   1578\u001b[0m \u001b[39m# turn off redundant tick labeling\u001b[39;00m\n\u001b[0;32m   1579\u001b[0m \u001b[39mif\u001b[39;00m sharex \u001b[39min\u001b[39;00m [\u001b[39m\"\u001b[39m\u001b[39mcol\u001b[39m\u001b[39m\"\u001b[39m, \u001b[39m\"\u001b[39m\u001b[39mall\u001b[39m\u001b[39m\"\u001b[39m]:\n\u001b[0;32m   1580\u001b[0m     \u001b[39m# turn off all but the bottom row\u001b[39;00m\n",
      "File \u001b[1;32mc:\\Users\\xdieg\\anaconda3\\envs\\pytorch_deeplearning\\lib\\site-packages\\matplotlib\\figure.py:1419\u001b[0m, in \u001b[0;36mFigure.add_subplot\u001b[1;34m(self, *args, **kwargs)\u001b[0m\n\u001b[0;32m   1411\u001b[0m         \u001b[39melse\u001b[39;00m:\n\u001b[0;32m   1412\u001b[0m             \u001b[39m# Undocumented convenience behavior:\u001b[39;00m\n\u001b[0;32m   1413\u001b[0m             \u001b[39m# subplot(111); subplot(111, projection='polar')\u001b[39;00m\n\u001b[0;32m   1414\u001b[0m             \u001b[39m# will replace the first with the second.\u001b[39;00m\n\u001b[0;32m   1415\u001b[0m             \u001b[39m# Without this, add_subplot would be simpler and\u001b[39;00m\n\u001b[0;32m   1416\u001b[0m             \u001b[39m# more similar to add_axes.\u001b[39;00m\n\u001b[0;32m   1417\u001b[0m             \u001b[39mself\u001b[39m\u001b[39m.\u001b[39m_axstack\u001b[39m.\u001b[39mremove(ax)\n\u001b[1;32m-> 1419\u001b[0m     a \u001b[39m=\u001b[39m subplot_class_factory(projection_class)(\u001b[39mself\u001b[39;49m, \u001b[39m*\u001b[39;49margs, \u001b[39m*\u001b[39;49m\u001b[39m*\u001b[39;49mkwargs)\n\u001b[0;32m   1421\u001b[0m \u001b[39mreturn\u001b[39;00m \u001b[39mself\u001b[39m\u001b[39m.\u001b[39m_add_axes_internal(key, a)\n",
      "File \u001b[1;32mc:\\Users\\xdieg\\anaconda3\\envs\\pytorch_deeplearning\\lib\\site-packages\\matplotlib\\axes\\_subplots.py:76\u001b[0m, in \u001b[0;36mSubplotBase.__init__\u001b[1;34m(self, fig, *args, **kwargs)\u001b[0m\n\u001b[0;32m     73\u001b[0m \u001b[39mself\u001b[39m\u001b[39m.\u001b[39mupdate_params()\n\u001b[0;32m     75\u001b[0m \u001b[39m# _axes_class is set in the subplot_class_factory\u001b[39;00m\n\u001b[1;32m---> 76\u001b[0m \u001b[39mself\u001b[39;49m\u001b[39m.\u001b[39;49m_axes_class\u001b[39m.\u001b[39;49m\u001b[39m__init__\u001b[39;49m(\u001b[39mself\u001b[39;49m, fig, \u001b[39mself\u001b[39;49m\u001b[39m.\u001b[39;49mfigbox, \u001b[39m*\u001b[39;49m\u001b[39m*\u001b[39;49mkwargs)\n\u001b[0;32m     77\u001b[0m \u001b[39m# add a layout box to this, for both the full axis, and the poss\u001b[39;00m\n\u001b[0;32m     78\u001b[0m \u001b[39m# of the axis.  We need both because the axes may become smaller\u001b[39;00m\n\u001b[0;32m     79\u001b[0m \u001b[39m# due to parasitic axes and hence no longer fill the subplotspec.\u001b[39;00m\n\u001b[0;32m     80\u001b[0m \u001b[39mif\u001b[39;00m \u001b[39mself\u001b[39m\u001b[39m.\u001b[39m_subplotspec\u001b[39m.\u001b[39m_layoutbox \u001b[39mis\u001b[39;00m \u001b[39mNone\u001b[39;00m:\n",
      "File \u001b[1;32mc:\\Users\\xdieg\\anaconda3\\envs\\pytorch_deeplearning\\lib\\site-packages\\matplotlib\\axes\\_base.py:425\u001b[0m, in \u001b[0;36m_AxesBase.__init__\u001b[1;34m(self, fig, rect, facecolor, frameon, sharex, sharey, label, xscale, yscale, **kwargs)\u001b[0m\n\u001b[0;32m    423\u001b[0m \u001b[39mif\u001b[39;00m \u001b[39mself\u001b[39m\u001b[39m.\u001b[39m_position\u001b[39m.\u001b[39mwidth \u001b[39m<\u001b[39m \u001b[39m0\u001b[39m \u001b[39mor\u001b[39;00m \u001b[39mself\u001b[39m\u001b[39m.\u001b[39m_position\u001b[39m.\u001b[39mheight \u001b[39m<\u001b[39m \u001b[39m0\u001b[39m:\n\u001b[0;32m    424\u001b[0m     \u001b[39mraise\u001b[39;00m \u001b[39mValueError\u001b[39;00m(\u001b[39m'\u001b[39m\u001b[39mWidth and height specified must be non-negative\u001b[39m\u001b[39m'\u001b[39m)\n\u001b[1;32m--> 425\u001b[0m \u001b[39mself\u001b[39m\u001b[39m.\u001b[39m_originalPosition \u001b[39m=\u001b[39m \u001b[39mself\u001b[39;49m\u001b[39m.\u001b[39;49m_position\u001b[39m.\u001b[39;49mfrozen()\n\u001b[0;32m    426\u001b[0m \u001b[39mself\u001b[39m\u001b[39m.\u001b[39maxes \u001b[39m=\u001b[39m \u001b[39mself\u001b[39m\n\u001b[0;32m    427\u001b[0m \u001b[39mself\u001b[39m\u001b[39m.\u001b[39m_aspect \u001b[39m=\u001b[39m \u001b[39m'\u001b[39m\u001b[39mauto\u001b[39m\u001b[39m'\u001b[39m\n",
      "File \u001b[1;32mc:\\Users\\xdieg\\anaconda3\\envs\\pytorch_deeplearning\\lib\\site-packages\\matplotlib\\transforms.py:275\u001b[0m, in \u001b[0;36mBboxBase.frozen\u001b[1;34m(self)\u001b[0m\n\u001b[0;32m    274\u001b[0m \u001b[39mdef\u001b[39;00m \u001b[39mfrozen\u001b[39m(\u001b[39mself\u001b[39m):\n\u001b[1;32m--> 275\u001b[0m     \u001b[39mreturn\u001b[39;00m Bbox(\u001b[39mself\u001b[39;49m\u001b[39m.\u001b[39;49mget_points()\u001b[39m.\u001b[39;49mcopy())\n",
      "File \u001b[1;32mc:\\Users\\xdieg\\anaconda3\\envs\\pytorch_deeplearning\\lib\\site-packages\\matplotlib\\transforms.py:751\u001b[0m, in \u001b[0;36mBbox.__init__\u001b[1;34m(self, points, **kwargs)\u001b[0m\n\u001b[0;32m    747\u001b[0m \u001b[39mself\u001b[39m\u001b[39m.\u001b[39m_ignore \u001b[39m=\u001b[39m \u001b[39mTrue\u001b[39;00m\n\u001b[0;32m    748\u001b[0m \u001b[39m# it is helpful in some contexts to know if the bbox is a\u001b[39;00m\n\u001b[0;32m    749\u001b[0m \u001b[39m# default or has been mutated; we store the orig points to\u001b[39;00m\n\u001b[0;32m    750\u001b[0m \u001b[39m# support the mutated methods\u001b[39;00m\n\u001b[1;32m--> 751\u001b[0m \u001b[39mself\u001b[39m\u001b[39m.\u001b[39m_points_orig \u001b[39m=\u001b[39m \u001b[39mself\u001b[39;49m\u001b[39m.\u001b[39;49m_points\u001b[39m.\u001b[39;49mcopy()\n",
      "\u001b[1;31mKeyboardInterrupt\u001b[0m: "
     ]
    }
   ],
   "source": [
    "for batch in tqdm(train_dataloader):\n",
    "    bboxes = model(batch.images, batch.sentences)   \n",
    "    \n",
    "    for i, obj in enumerate(bboxes):\n",
    "        if obj is not None:\n",
    "        \n",
    "            fig, ax = plt.subplots()\n",
    "            _, img_height, img_width = batch.images[i].shape\n",
    "            ax.imshow(batch.images[i].permute(1, 2, 0))\n",
    "            \n",
    "            # Pred\n",
    "            xmin, ymin, xmax, ymax = obj[0][:4].cpu().numpy()\n",
    "            width = xmax - xmin\n",
    "            height = ymax - ymin\n",
    "            xcenter = xmin + width/2\n",
    "            ycenter = ymin + height/2\n",
    "            ax.add_patch(patches.Rectangle(xy=(xcenter,ycenter), width=width, height=height, fill=None, color=\"green\", linewidth=3))\n",
    "\n",
    "            # xmin, ymin, xmax, ymax\n",
    "            pred_box = {\"x1\": xmin, \"x2\": xmax, \"y1\": ymin, \"y2\": ymax}\n",
    "            # x, y, w, h\n",
    "            true_box = {\"x1\": batch.bboxes[i][0], \"x2\": batch.bboxes[i][0] + batch.bboxes[i][2], \"y1\": batch.bboxes[i][1], \"y2\": batch.bboxes[i][1] + batch.bboxes[i][3]}\n",
    "\n",
    "            # Ground\n",
    "            width = true_box[\"x2\"] - true_box[\"x1\"]\n",
    "            height = true_box[\"y2\"] - true_box[\"y1\"]\n",
    "            xcenter = true_box[\"x1\"] + width/2\n",
    "            ycenter = true_box[\"y1\"] + height/2\n",
    "            ax.add_patch(patches.Rectangle(xy=(xcenter,ycenter), width=width, height=height, fill=None, color=\"blue\", linewidth=3))\n",
    "\n",
    "            # Other\n",
    "            \"\"\"\n",
    "            for obj in obj[1:]:\n",
    "                xmin, ymin, xmax, ymax = obj[:4].cpu().numpy()\n",
    "                width = xmax - xmin \n",
    "                height = ymax - ymin\n",
    "                xcenter = xmin + width/2\n",
    "                ycenter = ymin + height/2\n",
    "                ax.add_patch(patches.Rectangle(xy=(xcenter,ycenter), width=width, height=height, fill=None, color=\"red\", linewidth=3))\n",
    "            \"\"\"\n",
    "            # Score & plot\n",
    "            iou = get_iou(pred_box, true_box)\n",
    "            \n",
    "            ax.set_title(f\"{batch.sentences[i][0]}\\n({iou}%)\")\n",
    "\n",
    "            plt.savefig(\"test.jpg\")\n",
    "            plt.close()\n",
    "            break\n",
    "        break"
   ]
  },
  {
   "cell_type": "code",
   "execution_count": null,
   "id": "79449b89",
   "metadata": {},
   "outputs": [],
   "source": []
  }
 ],
 "metadata": {
  "kernelspec": {
   "display_name": "Python 3 (ipykernel)",
   "language": "python",
   "name": "python3"
  },
  "language_info": {
   "codemirror_mode": {
    "name": "ipython",
    "version": 3
   },
   "file_extension": ".py",
   "mimetype": "text/x-python",
   "name": "python",
   "nbconvert_exporter": "python",
   "pygments_lexer": "ipython3",
   "version": "3.8.13"
  }
 },
 "nbformat": 4,
 "nbformat_minor": 5
}
